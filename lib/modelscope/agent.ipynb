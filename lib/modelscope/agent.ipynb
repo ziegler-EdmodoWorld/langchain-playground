{
 "cells": [
  {
   "cell_type": "code",
   "execution_count": 1,
   "id": "d5ddfbad-94f4-4bf0-ae21-f0ccc09a6913",
   "metadata": {
    "ExecutionIndicator": {
     "show": true
    },
    "execution": {
     "iopub.execute_input": "2023-09-27T08:28:18.172045Z",
     "iopub.status.busy": "2023-09-27T08:28:18.171720Z",
     "iopub.status.idle": "2023-09-27T08:29:51.631404Z",
     "shell.execute_reply": "2023-09-27T08:29:51.630883Z",
     "shell.execute_reply.started": "2023-09-27T08:28:18.172024Z"
    },
    "tags": []
   },
   "outputs": [
    {
     "name": "stderr",
     "output_type": "stream",
     "text": [
      "2023-09-27 16:28:20,416 - modelscope - INFO - PyTorch version 2.0.1+cu118 Found.\n",
      "2023-09-27 16:28:20,418 - modelscope - INFO - TensorFlow version 2.13.0 Found.\n",
      "2023-09-27 16:28:20,418 - modelscope - INFO - Loading ast index from /mnt/workspace/.cache/modelscope/ast_indexer\n",
      "2023-09-27 16:28:20,455 - modelscope - INFO - Loading done! Current index file version is 1.9.1, with md5 9fda7b6c6f6d961b96ab769dc9f618bd and a total number of 924 components indexed\n",
      "2023-09-27 16:28:22,436 - modelscope - INFO - Use user-specified model revision: v1.0.0\n",
      "The model is automatically converting to bf16 for faster inference. If you want to disable the automatic precision, please manually add bf16/fp16/fp32=True to \"AutoModelForCausalLM.from_pretrained\".\n",
      "Warning: import flash_attn rotary fail, please install FlashAttention rotary to get higher efficiency https://github.com/Dao-AILab/flash-attention/tree/main/csrc/rotary\n",
      "Warning: import flash_attn rms_norm fail, please install FlashAttention layer_norm to get higher efficiency https://github.com/Dao-AILab/flash-attention/tree/main/csrc/layer_norm\n",
      "Warning: import flash_attn fail, please install FlashAttention to get higher efficiency https://github.com/Dao-AILab/flash-attention\n"
     ]
    }
   ],
   "source": [
    "import os\n",
    "os.chdir('modelscope-agent/demo')\n",
    "\n",
    "\n",
    "import sys\n",
    "sys.path.append('../')\n",
    "from modelscope_agent.llm import LLMFactory\n",
    "from modelscope.hub.api import HubApi\n",
    "\n",
    "\n",
    "model_name = 'modelscope-agent-7b'\n",
    "model_cfg = {\n",
    "    'modelscope-agent-7b':{\n",
    "        'type': 'modelscope',\n",
    "        'model_id': 'damo/ModelScope-Agent-7B',\n",
    "        'model_revision': 'v1.0.0',\n",
    "        'use_raw_generation_config': True,\n",
    "        'custom_chat': True\n",
    "    }\n",
    "}\n",
    "\n",
    "\n",
    "llm = LLMFactory.build_llm(model_name, model_cfg)"
   ]
  },
  {
   "cell_type": "code",
   "execution_count": 20,
   "id": "ef8c1da3-bbdf-4dbb-9e58-9217177e3b4b",
   "metadata": {
    "ExecutionIndicator": {
     "show": true
    },
    "execution": {
     "iopub.execute_input": "2023-09-27T07:43:07.017647Z",
     "iopub.status.busy": "2023-09-27T07:43:07.017307Z",
     "iopub.status.idle": "2023-09-27T07:43:08.939317Z",
     "shell.execute_reply": "2023-09-27T07:43:08.938816Z",
     "shell.execute_reply.started": "2023-09-27T07:43:07.017628Z"
    },
    "tags": []
   },
   "outputs": [
    {
     "name": "stderr",
     "output_type": "stream",
     "text": [
      "2023-09-27 15:43:07,448 - modelscope - INFO - Model revision not specified, use the latest revision: v1.1.0\n",
      "2023-09-27 15:43:07,649 - modelscope - INFO - initiate model from /mnt/workspace/.cache/modelscope/damo/nlp_corom_sentence-embedding_chinese-base\n",
      "2023-09-27 15:43:07,649 - modelscope - INFO - initiate model from location /mnt/workspace/.cache/modelscope/damo/nlp_corom_sentence-embedding_chinese-base.\n",
      "2023-09-27 15:43:07,650 - modelscope - INFO - initialize model from /mnt/workspace/.cache/modelscope/damo/nlp_corom_sentence-embedding_chinese-base\n",
      "2023-09-27 15:43:08,838 - modelscope - WARNING - No preprocessor field found in cfg.\n",
      "2023-09-27 15:43:08,838 - modelscope - WARNING - No val key and type key found in preprocessor domain of configuration.json file.\n",
      "2023-09-27 15:43:08,839 - modelscope - WARNING - Cannot find available config to build preprocessor at mode inference, current config: {'model_dir': '/mnt/workspace/.cache/modelscope/damo/nlp_corom_sentence-embedding_chinese-base'}. trying to build by task and model information.\n",
      "2023-09-27 15:43:08,842 - modelscope - WARNING - No preprocessor field found in cfg.\n",
      "2023-09-27 15:43:08,842 - modelscope - WARNING - No val key and type key found in preprocessor domain of configuration.json file.\n",
      "2023-09-27 15:43:08,843 - modelscope - WARNING - Cannot find available config to build preprocessor at mode inference, current config: {'model_dir': '/mnt/workspace/.cache/modelscope/damo/nlp_corom_sentence-embedding_chinese-base', 'sequence_length': 128}. trying to build by task and model information.\n"
     ]
    }
   ],
   "source": [
    "import os\n",
    "from modelscope.utils.config import Config\n",
    "from modelscope_agent.llm import LLMFactory\n",
    "from modelscope_agent.agent import AgentExecutor\n",
    "from modelscope_agent.prompt import MSPromptGenerator\n",
    "\n",
    "# get cfg from file, refer the example in config folder\n",
    "model_cfg_file = os.getenv('MODEL_CONFIG_FILE', '../config/cfg_model_template.json')\n",
    "model_cfg = Config.from_file(model_cfg_file)\n",
    "tool_cfg_file = os.getenv('TOOL_CONFIG_FILE', '../config/cfg_tool_template.json')\n",
    "tool_cfg = Config.from_file(tool_cfg_file)\n",
    "os.environ['MODELSCOPE_API_TOKEN'] = \"1b331ba1-37c1-4fb2-bff2-8c2a273731ec\"\n",
    "\n",
    "agent = AgentExecutor(llm, tool_cfg)"
   ]
  },
  {
   "cell_type": "code",
   "execution_count": 11,
   "id": "089b66a6-c780-4bf9-a7c1-1f1ae951eb6a",
   "metadata": {
    "ExecutionIndicator": {
     "show": true
    },
    "execution": {
     "iopub.execute_input": "2023-09-27T08:37:49.924181Z",
     "iopub.status.busy": "2023-09-27T08:37:49.923840Z",
     "iopub.status.idle": "2023-09-27T08:37:49.928982Z",
     "shell.execute_reply": "2023-09-27T08:37:49.928509Z",
     "shell.execute_reply.started": "2023-09-27T08:37:49.924163Z"
    },
    "tags": []
   },
   "outputs": [],
   "source": [
    "from modelscope_agent.tools import ModelscopePipelineTool\n",
    "from modelscope.utils.constant import Tasks\n",
    "from modelscope_agent.output_wrapper import AudioWrapper\n",
    "\n",
    "class TexttoSpeechTool(ModelscopePipelineTool):\n",
    "    default_model = 'damo/speech_sambert-hifigan_tts_zh-cn_16k'\n",
    "    description = '文本转语音服务，将文字转换为自然而逼真的语音，可配置男声/女声'\n",
    "    name = 'TexttoSpeech'\n",
    "    parameters: list = [{\n",
    "        'name': 'input',\n",
    "        'description': '要转成语音的文本',\n",
    "        'required': True\n",
    "    }, {\n",
    "        'name': 'gender',\n",
    "        'description': '用户身份',\n",
    "        'required': True\n",
    "    }]\n",
    "    task = Tasks.text_to_speech\n",
    "\n",
    "    def _remote_parse_input(self, *args, **kwargs):\n",
    "        if 'gender' not in kwargs:\n",
    "            kwargs['gender'] = 'man'\n",
    "        voice = 'zhibei_emo' if kwargs['gender'] == 'man' else 'zhiyan_emo'\n",
    "        kwargs['parameters'] = voice\n",
    "        kwargs.pop('gender')\n",
    "        return kwargs\n",
    "\n",
    "    def _parse_output(self, origin_result, remote=True):\n",
    "\n",
    "        audio = origin_result['output_wav']\n",
    "        return {'result': AudioWrapper(audio)}"
   ]
  },
  {
   "cell_type": "code",
   "execution_count": 14,
   "id": "cec4faff-6a4f-4b04-b3cd-33bba9d3d418",
   "metadata": {
    "ExecutionIndicator": {
     "show": true
    },
    "execution": {
     "iopub.execute_input": "2023-09-27T08:38:23.815142Z",
     "iopub.status.busy": "2023-09-27T08:38:23.814819Z",
     "iopub.status.idle": "2023-09-27T08:38:23.818867Z",
     "shell.execute_reply": "2023-09-27T08:38:23.818415Z",
     "shell.execute_reply.started": "2023-09-27T08:38:23.815124Z"
    },
    "tags": []
   },
   "outputs": [],
   "source": [
    "from modelscope_agent.tools import ModelscopePipelineTool\n",
    "from modelscope.utils.constant import Tasks\n",
    "\n",
    "class TextAddressTool(ModelscopePipelineTool):\n",
    "    default_model = 'damo/mgeo_geographic_elements_tagging_chinese_base'\n",
    "    description = '地址解析服务，针对中文地址信息，识别出里面的元素，包括省、市、区、镇、社区、道路、路号、POI、楼栋号、户室号等'\n",
    "    name = 'TextAddress'\n",
    "    parameters: list = [{\n",
    "        'name': 'input',\n",
    "        'description': '用户输入的地址信息',\n",
    "        'required': True\n",
    "    }]\n",
    "    task = Tasks.token_classification\n",
    "\n",
    "    def _parse_output(self, origin_result, *args, **kwargs):\n",
    "        final_result = {}\n",
    "        for e in origin_result['output']:\n",
    "            final_result[e['type']] = e['span']\n",
    "        return final_result\n",
    "    "
   ]
  },
  {
   "cell_type": "code",
   "execution_count": 15,
   "id": "4ff57563-c9e8-42e8-a685-fda733244e9d",
   "metadata": {
    "ExecutionIndicator": {
     "show": true
    },
    "execution": {
     "iopub.execute_input": "2023-09-27T08:38:26.081378Z",
     "iopub.status.busy": "2023-09-27T08:38:26.081079Z",
     "iopub.status.idle": "2023-09-27T08:38:26.085761Z",
     "shell.execute_reply": "2023-09-27T08:38:26.085304Z",
     "shell.execute_reply.started": "2023-09-27T08:38:26.081360Z"
    },
    "tags": []
   },
   "outputs": [],
   "source": [
    "from modelscope_agent.agent import AgentExecutor\n",
    "additional_tool_list = {\n",
    "    'TextAddress': TextAddressTool({}),\n",
    "    'TexttoSpeech': TexttoSpeechTool({})\n",
    "}\n",
    "\n",
    "\n",
    "agent = AgentExecutor(llm, additional_tool_list=additional_tool_list, tool_retrieval=False)\n",
    "available_tool_list = ['TextAddress','TexttoSpeech']\n",
    "agent.set_available_tools(available_tool_list)"
   ]
  },
  {
   "cell_type": "code",
   "execution_count": null,
   "id": "46a6a8e5-3e70-489a-9cbf-f2b588c5f29f",
   "metadata": {
    "ExecutionIndicator": {
     "show": true
    },
    "execution": {
     "iopub.execute_input": "2023-09-27T08:40:06.220426Z",
     "iopub.status.busy": "2023-09-27T08:40:06.220103Z"
    },
    "tags": []
   },
   "outputs": [],
   "source": [
    "agent.run('用女声读出来', remote=False)\n"
   ]
  },
  {
   "cell_type": "code",
   "execution_count": null,
   "id": "24314979-8c06-4d02-b19c-7e5640f3b9c7",
   "metadata": {},
   "outputs": [],
   "source": []
  }
 ],
 "metadata": {
  "kernelspec": {
   "display_name": "Python 3 (ipykernel)",
   "language": "python",
   "name": "python3"
  },
  "language_info": {
   "codemirror_mode": {
    "name": "ipython",
    "version": 3
   },
   "file_extension": ".py",
   "mimetype": "text/x-python",
   "name": "python",
   "nbconvert_exporter": "python",
   "pygments_lexer": "ipython3",
   "version": "3.8.16"
  }
 },
 "nbformat": 4,
 "nbformat_minor": 5
}
