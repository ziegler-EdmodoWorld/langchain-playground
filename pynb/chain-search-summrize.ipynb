{
 "cells": [
  {
   "cell_type": "code",
   "execution_count": null,
   "id": "c2fb0c10-3fd9-43e1-8984-66e961b98c75",
   "metadata": {},
   "outputs": [],
   "source": [
    "from langchain.chains import SequentialChain\n",
    "from langchain.chains import LLMRequestsChain, LLMChain\n",
    "\n",
    "template = \"\"\"在 >>> 和 <<< 之间是网页的返回的HTML内容。\n",
    "网页是新浪财经A股上市公司的公司简介。\n",
    "请抽取参数请求的信息。\n",
    "\n",
    ">>> {requests_result} <<<\n",
    "请使用如下的JSON格式返回数据\n",
    "{{\n",
    "  \"company_name\":\"a\",\n",
    "  \"company_english_name\":\"b\",\n",
    "  \"issue_price\":\"c\",\n",
    "  \"date_of_establishment\":\"d\",\n",
    "  \"registered_capital\":\"e\",\n",
    "  \"office_address\":\"f\",\n",
    "  \"Company_profile\":\"g\"\n",
    "\n",
    "}}\n",
    "Extracted:\"\"\"\n",
    "\n",
    "prompt1 = PromptTemplate(\n",
    "    input_variables=[\"requests_result\"],\n",
    "    template=template\n",
    ")\n",
    "chain1 = LLMRequestsChain(llm_chain=LLMChain(llm=llm, prompt=prompt1),output_key=\"output\", verbose=True)"
   ]
  },
  {
   "cell_type": "code",
   "execution_count": null,
   "id": "e23aadf6-aeba-4355-ac48-9c4b35d80ec1",
   "metadata": {},
   "outputs": [],
   "source": [
    "from langchain import LLMChain\n",
    "from langchain.text_splitter import CharacterTextSplitter\n",
    "from langchain.chains.mapreduce import MapReduceChain\n",
    "from langchain.prompts import PromptTemplate\n",
    "from langchain.llms.base import LLM\n",
    "from transformers import AutoTokenizer, AutoModel, AutoConfig\n",
    "\n",
    "prompt_template = \"\"\"对下面的文字做精简的摘要:\n",
    "\n",
    "    {output}\n",
    "\n",
    "    \"\"\"\n",
    "\n",
    "PROMPT2 = PromptTemplate(template=prompt_template, input_variables=[\"output\"])\n",
    "\n",
    "chain2 = LLMChain(llm=llm, prompt=PROMPT2,\n",
    "                      output_key=\"summary\", verbose=True\n",
    "                     )"
   ]
  },
  {
   "cell_type": "code",
   "execution_count": null,
   "id": "3cd87da5-10f7-468f-8d88-4503d37acf45",
   "metadata": {},
   "outputs": [],
   "source": [
    "overall_chain = SequentialChain(\n",
    "    chains=[chain1, chain2],\n",
    "    verbose=True,\n",
    "    input_variables=[\"url\"],\n",
    "    output_variables=[\"output\", \"summary\"],\n",
    ")\n",
    "url=\"https://vip.stock.finance.sina.com.cn/corp/go.php/vCI_CorpInfo/stockid/600519.phtml\"\n",
    "overall_chain(url)"
   ]
  }
 ],
 "metadata": {
  "kernelspec": {
   "display_name": "py310",
   "language": "python",
   "name": "py310"
  },
  "language_info": {
   "codemirror_mode": {
    "name": "ipython",
    "version": 3
   },
   "file_extension": ".py",
   "mimetype": "text/x-python",
   "name": "python",
   "nbconvert_exporter": "python",
   "pygments_lexer": "ipython3",
   "version": "3.10.11"
  }
 },
 "nbformat": 4,
 "nbformat_minor": 5
}
