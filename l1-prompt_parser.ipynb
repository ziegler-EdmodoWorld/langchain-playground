{
 "cells": [
  {
   "cell_type": "code",
   "execution_count": 1,
   "id": "1e6e4699-ff4d-439d-b517-60ce00092921",
   "metadata": {},
   "outputs": [
    {
     "name": "stderr",
     "output_type": "stream",
     "text": [
      "Explicitly passing a `revision` is encouraged when loading a configuration with custom code to ensure no malicious code has been contributed in a newer revision.\n",
      "Explicitly passing a `revision` is encouraged when loading a model with custom code to ensure no malicious code has been contributed in a newer revision.\n",
      "Explicitly passing a `revision` is encouraged when loading a model with custom code to ensure no malicious code has been contributed in a newer revision.\n"
     ]
    },
    {
     "data": {
      "application/vnd.jupyter.widget-view+json": {
       "model_id": "eae3197a41904e9fbbceac0d7be661b5",
       "version_major": 2,
       "version_minor": 0
      },
      "text/plain": [
       "Loading checkpoint shards:   0%|          | 0/8 [00:00<?, ?it/s]"
      ]
     },
     "metadata": {},
     "output_type": "display_data"
    }
   ],
   "source": [
    "from langchain.text_splitter import RecursiveCharacterTextSplitter\n",
    "from langchain.docstore.document import Document\n",
    "from langchain.chains.summarize import load_summarize_chain\n",
    "from langchain.prompts import PromptTemplate\n",
    "from langchain.llms import OpenAI\n",
    "from langchain.chains import LLMRequestsChain, LLMChain\n",
    "from langchain import LLMChain\n",
    "from langchain.text_splitter import CharacterTextSplitter\n",
    "from langchain.chains.mapreduce import MapReduceChain\n",
    "from langchain.prompts import PromptTemplate\n",
    "from langchain.llms.base import LLM\n",
    "from transformers import AutoTokenizer, AutoModel, AutoConfig\n",
    "from typing import Any, Dict, List, Mapping, Optional, Tuple, Union\n",
    "from torch.mps import empty_cache\n",
    "import torch\n",
    "import sys\n",
    "\n",
    "class GLM(LLM):\n",
    "    max_token: int = 2048\n",
    "    temperature: float = 0.8\n",
    "    top_p = 0.9\n",
    "    tokenizer: object = None\n",
    "    model: object = None\n",
    "    history_len: int = 1024\n",
    "\n",
    "    def __init__(self):\n",
    "        super().__init__()\n",
    "\n",
    "    @property\n",
    "    def _llm_type(self) -> str:\n",
    "        return \"GLM\"\n",
    "\n",
    "    def load_model(self, llm_device=\"gpu\",model_name_or_path=None):\n",
    "        model_config = AutoConfig.from_pretrained(model_name_or_path, trust_remote_code=True)\n",
    "        self.tokenizer = AutoTokenizer.from_pretrained(model_name_or_path,trust_remote_code=True)\n",
    "        self.model = AutoModel.from_pretrained(model_name_or_path, config=model_config, trust_remote_code=True).half().cuda()\n",
    "\n",
    "    def _call(self,prompt:str,history:List[str] = [],stop: Optional[List[str]] = None):\n",
    "        response, _ = self.model.chat(\n",
    "                    self.tokenizer,prompt,\n",
    "                    history=history[-self.history_len:] if self.history_len > 0 else [],\n",
    "                    max_length=self.max_token,temperature=self.temperature,\n",
    "                    top_p=self.top_p)\n",
    "        return response\n",
    "\n",
    "    \n",
    "modelpath = \"/root/model/chatglm-6b\"\n",
    "sys.path.append(modelpath)\n",
    "llm = GLM()\n",
    "llm.load_model(model_name_or_path = modelpath)"
   ]
  },
  {
   "cell_type": "code",
   "execution_count": 10,
   "id": "bb6d77c8-8fce-4e7a-9dc4-d90a8fe03bbd",
   "metadata": {},
   "outputs": [],
   "source": [
    "customer_review = \"\"\"公司系经上海市人民政府沪府体改审(2000)019号《关于同意设立上海置信电气股份有限公司的批复》同意,由原上海置信电气工业有限公司整体变更而来。经中国证券监督管理委员会证监发行字(2003)113号文核准,公司于2003年9月18日公开发行人民币普通股股票2,500万股。\n",
    "    2020年4月。公司名称由“上海置信电气股份有限公司”变更为“国网英大股份有限公司”,英文名称由“Shanghai Zhixin Electric Co.,Ltd.”变更为“State Grid Yingda CO.,LTD.\n",
    "\"\"\"\n",
    "\n",
    "review_template = \"\"\"\\\n",
    "For the following text, extract the following information:\n",
    "\n",
    "公司英文名\n",
    "\n",
    "公司中文名\n",
    "\n",
    "\n",
    "Format the output as JSON with the following keys:\n",
    "name\n",
    "ch_name\n",
    "\n",
    "text: {text}\n",
    "\"\"\""
   ]
  },
  {
   "cell_type": "code",
   "execution_count": 11,
   "id": "bdbd50fc-5f46-4d42-b050-7f72bc08c075",
   "metadata": {},
   "outputs": [
    {
     "name": "stdout",
     "output_type": "stream",
     "text": [
      "- 公司英文名：Shanghai Zhixin Electric Co., Ltd.\n",
      "- 公司中文名：State Grid Yingda CO.,LTD.\n"
     ]
    }
   ],
   "source": [
    "from langchain.prompts import ChatPromptTemplate\n",
    "\n",
    "prompt_template = ChatPromptTemplate.from_template(review_template)\n",
    "messages = prompt_template.format_messages(text=customer_review)\n",
    "response = llm(messages[0].content)\n",
    "print(response)"
   ]
  },
  {
   "cell_type": "code",
   "execution_count": 13,
   "id": "19126768-d356-4470-ac4d-b3dbb7bd78ef",
   "metadata": {},
   "outputs": [
    {
     "name": "stdout",
     "output_type": "stream",
     "text": [
      "The output should be a markdown code snippet formatted in the following schema, including the leading and trailing \"```json\" and \"```\":\n",
      "\n",
      "```json\n",
      "{\n",
      "\t\"name\": string  // 公司英文名\n",
      "\t\"zhname\": string  // 公司中文名\n",
      "}\n",
      "```\n"
     ]
    }
   ],
   "source": [
    "from langchain.output_parsers import ResponseSchema\n",
    "from langchain.output_parsers import StructuredOutputParser\n",
    "enname_schema = ResponseSchema(name=\"name\",\n",
    "                             description=\"公司英文名\")\n",
    "zhname_schema = ResponseSchema(name=\"zhname\",\n",
    "                             description=\"公司中文名\")\n",
    "response_schemas=[enname_schema, zhname_schema]\n",
    "output_parser = StructuredOutputParser.from_response_schemas(response_schemas)\n",
    "format_instructions = output_parser.get_format_instructions()\n",
    "print(format_instructions)\n"
   ]
  },
  {
   "cell_type": "code",
   "execution_count": 15,
   "id": "74fcf803-5d8c-4bf3-97ff-5e222160bbb4",
   "metadata": {},
   "outputs": [],
   "source": [
    "review_template2 = \"\"\"\\\n",
    "For the following text, extract the following information:\n",
    "\n",
    "公司英文名\n",
    "\n",
    "公司中文名\n",
    "\n",
    "text: {text}\n",
    "\n",
    "{format_instructions}\n",
    "\"\"\"\n",
    "\n",
    "prompt = ChatPromptTemplate.from_template(template=review_template2)\n",
    "\n",
    "messages = prompt.format_messages(text=customer_review, \n",
    "                                format_instructions=format_instructions)"
   ]
  },
  {
   "cell_type": "code",
   "execution_count": 16,
   "id": "9b5ebe1a-9981-4cec-aeba-34e12163be38",
   "metadata": {},
   "outputs": [
    {
     "name": "stdout",
     "output_type": "stream",
     "text": [
      "For the following text, extract the following information:\n",
      "\n",
      "公司英文名\n",
      "\n",
      "公司中文名\n",
      "\n",
      "text: 公司系经上海市人民政府沪府体改审(2000)019号《关于同意设立上海置信电气股份有限公司的批复》同意,由原上海置信电气工业有限公司整体变更而来。经中国证券监督管理委员会证监发行字(2003)113号文核准,公司于2003年9月18日公开发行人民币普通股股票2,500万股。\n",
      "    2020年4月。公司名称由“上海置信电气股份有限公司”变更为“国网英大股份有限公司”,英文名称由“Shanghai Zhixin Electric Co.,Ltd.”变更为“State Grid Yingda CO.,LTD.\n",
      "\n",
      "\n",
      "The output should be a markdown code snippet formatted in the following schema, including the leading and trailing \"```json\" and \"```\":\n",
      "\n",
      "```json\n",
      "{\n",
      "\t\"name\": string  // 公司英文名\n",
      "\t\"zhname\": string  // 公司中文名\n",
      "}\n",
      "```\n",
      "\n"
     ]
    }
   ],
   "source": [
    "print(messages[0].content)"
   ]
  },
  {
   "cell_type": "code",
   "execution_count": 19,
   "id": "aa279398-e516-40b8-a1bb-4bd9f95cf49f",
   "metadata": {},
   "outputs": [
    {
     "name": "stdout",
     "output_type": "stream",
     "text": [
      "{'name': 'State Grid Yingda Co., Ltd.', 'zhname': '国网英大股份有限公司'}\n"
     ]
    }
   ],
   "source": [
    "print(output_parser.parse(llm(messages[0].content)))"
   ]
  },
  {
   "cell_type": "code",
   "execution_count": null,
   "id": "0bc53d34-cd50-4920-b6c8-80dac22ad5f2",
   "metadata": {},
   "outputs": [],
   "source": []
  }
 ],
 "metadata": {
  "kernelspec": {
   "display_name": "py310",
   "language": "python",
   "name": "py310"
  },
  "language_info": {
   "codemirror_mode": {
    "name": "ipython",
    "version": 3
   },
   "file_extension": ".py",
   "mimetype": "text/x-python",
   "name": "python",
   "nbconvert_exporter": "python",
   "pygments_lexer": "ipython3",
   "version": "3.10.11"
  }
 },
 "nbformat": 4,
 "nbformat_minor": 5
}
